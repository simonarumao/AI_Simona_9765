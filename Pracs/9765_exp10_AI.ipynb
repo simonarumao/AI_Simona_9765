{
 "cells": [
  {
   "cell_type": "code",
   "execution_count": 1,
   "id": "bfe55645",
   "metadata": {},
   "outputs": [
    {
     "name": "stdout",
     "output_type": "stream",
     "text": [
      "Best Route: ['E', 'D', 'B', 'A', 'C']\n",
      "Total Distance: 73.74611095215988\n"
     ]
    }
   ],
   "source": [
    "\n",
    "import random\n",
    "import numpy as np\n",
    "\n",
    "\n",
    "cities = {\n",
    "    'A': (4,9),\n",
    "    'B': (6,9),\n",
    "    'C': (3,7),\n",
    "    'D': (70,5),\n",
    "    'E': (75,3)\n",
    "}\n",
    "\n",
    "# Genetic Algorithm parameters\n",
    "population_size = 50\n",
    "generations = 1000\n",
    "mutation_rate = 0.01\n",
    "\n",
    "def calculate_distance(route):\n",
    "    total_distance = 0\n",
    "    for i in range(len(route) - 1):\n",
    "        city1, city2 = route[i], route[i + 1]\n",
    "        total_distance += np.linalg.norm(np.array(cities[city1]) - np.array(cities[city2]))\n",
    "    return total_distance\n",
    "\n",
    "def generate_initial_population():\n",
    "    population = []\n",
    "    cities_list = list(cities.keys())\n",
    "    \n",
    "    for _ in range(population_size):\n",
    "        route = random.sample(cities_list, len(cities_list))\n",
    "        population.append(route)\n",
    "    \n",
    "    return population\n",
    "\n",
    "def crossover(parent1, parent2):\n",
    "    crossover_point = random.randint(1, len(parent1) - 1)\n",
    "    child1 = parent1[:crossover_point] + [city for city in parent2 if city not in parent1[:crossover_point]]\n",
    "    child2 = parent2[:crossover_point] + [city for city in parent1 if city not in parent2[:crossover_point]]\n",
    "    \n",
    "    return child1, child2\n",
    "\n",
    "def mutate(route):\n",
    "    if random.random() < mutation_rate:\n",
    "        mutation_point1, mutation_point2 = random.sample(range(len(route)), 2)\n",
    "        route[mutation_point1], route[mutation_point2] = route[mutation_point2], route[mutation_point1]\n",
    "    \n",
    "    return route\n",
    "\n",
    "def genetic_algorithm():\n",
    "    population = generate_initial_population()\n",
    "\n",
    "    for generation in range(generations):\n",
    "        population = sorted(population, key=lambda x: calculate_distance(x))\n",
    "        new_population = []\n",
    "\n",
    "        for _ in range(int(population_size/2)):\n",
    "            parent1, parent2 = random.sample(population[:10], 2)  # Select top 10 as parents\n",
    "            child1, child2 = crossover(parent1, parent2)\n",
    "            child1 = mutate(child1)\n",
    "            child2 = mutate(child2)\n",
    "            new_population.extend([child1, child2])\n",
    "\n",
    "        population = new_population\n",
    "\n",
    "    best_route = min(population, key=lambda x: calculate_distance(x))\n",
    "    min_distance = calculate_distance(best_route)\n",
    "\n",
    "    print(f\"Best Route: {best_route}\")\n",
    "    print(f\"Total Distance: {min_distance}\")\n",
    "\n",
    "if __name__ == \"__main__\":\n",
    "    genetic_algorithm()"
   ]
  }
 ],
 "metadata": {
  "kernelspec": {
   "display_name": "Python 3 (ipykernel)",
   "language": "python",
   "name": "python3"
  },
  "language_info": {
   "codemirror_mode": {
    "name": "ipython",
    "version": 3
   },
   "file_extension": ".py",
   "mimetype": "text/x-python",
   "name": "python",
   "nbconvert_exporter": "python",
   "pygments_lexer": "ipython3",
   "version": "3.9.13"
  }
 },
 "nbformat": 4,
 "nbformat_minor": 5
}
